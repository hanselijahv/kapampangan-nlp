{
 "cells": [
  {
   "cell_type": "code",
   "id": "initial_id",
   "metadata": {
    "collapsed": true,
    "ExecuteTime": {
     "end_time": "2025-09-26T14:32:37.888627Z",
     "start_time": "2025-09-26T14:32:37.885544Z"
    }
   },
   "source": [
    "# Import Libraries\n",
    "import pandas as pd\n",
    "import unicodedata\n",
    "import os"
   ],
   "outputs": [],
   "execution_count": 18
  },
  {
   "metadata": {
    "ExecuteTime": {
     "end_time": "2025-09-26T14:32:37.900964Z",
     "start_time": "2025-09-26T14:32:37.898391Z"
    }
   },
   "cell_type": "code",
   "source": [
    "# Ensure processed directory exists\n",
    "os.makedirs(\"../data/processed\", exist_ok=True)"
   ],
   "id": "e3a73b11955227d5",
   "outputs": [],
   "execution_count": 19
  },
  {
   "metadata": {
    "ExecuteTime": {
     "end_time": "2025-09-26T14:32:37.910989Z",
     "start_time": "2025-09-26T14:32:37.906091Z"
    }
   },
   "cell_type": "code",
   "source": [
    "# Load dataset (skip metadata rows)\n",
    "df = pd.read_csv(\"../data/raw/raw_words.csv\", skiprows=8)"
   ],
   "id": "779eeeac8386a9d2",
   "outputs": [],
   "execution_count": 20
  },
  {
   "metadata": {
    "ExecuteTime": {
     "end_time": "2025-09-26T14:32:37.919012Z",
     "start_time": "2025-09-26T14:32:37.916124Z"
    }
   },
   "cell_type": "code",
   "source": [
    "# Assign consistent column names\n",
    "df.columns = [\"word\",\"lemma\",\"variants\",\"pos\",\"en_translation\",\n",
    "              \"tl_translation\",\"meaning\",\"example_sentence\",\"source_id\"]"
   ],
   "id": "e24daf0e74540850",
   "outputs": [],
   "execution_count": 21
  },
  {
   "metadata": {
    "ExecuteTime": {
     "end_time": "2025-09-26T14:32:37.928095Z",
     "start_time": "2025-09-26T14:32:37.924972Z"
    }
   },
   "cell_type": "code",
   "source": [
    "# Drop the header row\n",
    "df = df.drop(0).reset_index(drop=True)"
   ],
   "id": "3317188b8daf9f0e",
   "outputs": [],
   "execution_count": 22
  },
  {
   "metadata": {
    "ExecuteTime": {
     "end_time": "2025-09-26T14:32:37.937826Z",
     "start_time": "2025-09-26T14:32:37.933367Z"
    }
   },
   "cell_type": "code",
   "source": [
    "# Strip whitespace from all cells\n",
    "df = df.apply(lambda col: col.map(lambda x: x.strip() if isinstance(x, str) else x))"
   ],
   "id": "377dabae30d1967d",
   "outputs": [],
   "execution_count": 23
  },
  {
   "metadata": {
    "ExecuteTime": {
     "end_time": "2025-09-26T14:32:37.948009Z",
     "start_time": "2025-09-26T14:32:37.943297Z"
    }
   },
   "cell_type": "code",
   "source": [
    "# Lowercase normalization\n",
    "for col in [\"word\",\"lemma\",\"variants\",\"pos\",\"en_translation\",\"tl_translation\"]:\n",
    "    df[col] = df[col].str.lower()"
   ],
   "id": "48f0ada6fe9c8767",
   "outputs": [],
   "execution_count": 24
  },
  {
   "metadata": {
    "ExecuteTime": {
     "end_time": "2025-09-26T14:32:37.959025Z",
     "start_time": "2025-09-26T14:32:37.953812Z"
    }
   },
   "cell_type": "code",
   "source": [
    "# Normalize Unicode (to NFC form so diacritics are consistent)\n",
    "df = df.apply(lambda col: col.map(lambda x: unicodedata.normalize(\"NFC\", x) if isinstance(x, str) else x))"
   ],
   "id": "927167d456d55f0f",
   "outputs": [],
   "execution_count": 25
  },
  {
   "metadata": {
    "ExecuteTime": {
     "end_time": "2025-09-26T14:32:37.968176Z",
     "start_time": "2025-09-26T14:32:37.964562Z"
    }
   },
   "cell_type": "code",
   "source": [
    "# Standardize POS tags\n",
    "pos_map = {\n",
    "    \"verb\":\"VERB\",\n",
    "    \"noun\":\"NOUN\",\n",
    "    \"adjective\":\"ADJ\",\n",
    "    \"adverb\":\"ADV\",\n",
    "    \"pronoun\":\"PRON\",\n",
    "    \"conj\":\"CONJ\",\"conjunction\":\"CONJ\",\n",
    "    \"determiner\":\"DET\",\n",
    "    \"preposition\":\"ADP\",\n",
    "    \"particle\":\"PART\",\n",
    "    \"numeral\":\"NUM\",\n",
    "}\n",
    "df[\"pos\"] = df[\"pos\"].map(lambda x: pos_map.get(x, x.upper()))\n"
   ],
   "id": "33bbdf3cde282abb",
   "outputs": [],
   "execution_count": 26
  },
  {
   "metadata": {
    "ExecuteTime": {
     "end_time": "2025-09-26T14:32:37.977189Z",
     "start_time": "2025-09-26T14:32:37.973630Z"
    }
   },
   "cell_type": "code",
   "source": [
    "# Fill missing values with placeholder\n",
    "df = df.fillna(\"None\")"
   ],
   "id": "3459625f3b36d73d",
   "outputs": [],
   "execution_count": 27
  },
  {
   "metadata": {
    "ExecuteTime": {
     "end_time": "2025-09-26T14:32:37.989190Z",
     "start_time": "2025-09-26T14:32:37.984664Z"
    }
   },
   "cell_type": "code",
   "source": [
    "# Load sources CSV\n",
    "sources_df = pd.read_csv(\"../data/raw/sources.csv\")\n",
    "\n",
    "print(sources_df.columns)"
   ],
   "id": "b896b4534fdc64ef",
   "outputs": [
    {
     "name": "stdout",
     "output_type": "stream",
     "text": [
      "Index(['source_id', 'details', 'date_collected', 'collector', 'link'], dtype='object')\n"
     ]
    }
   ],
   "execution_count": 28
  },
  {
   "metadata": {
    "ExecuteTime": {
     "end_time": "2025-09-26T14:32:38.052229Z",
     "start_time": "2025-09-26T14:32:38.046673Z"
    }
   },
   "cell_type": "code",
   "source": [
    "# Merge on source_id to bring in the link\n",
    "df = df.merge(sources_df, on=\"source_id\", how=\"left\")\n",
    "df = df.drop(columns=[\"date_collected\", \"collector\"])"
   ],
   "id": "f7c03f7ee7b11c54",
   "outputs": [],
   "execution_count": 29
  },
  {
   "metadata": {
    "ExecuteTime": {
     "end_time": "2025-09-26T14:32:38.069199Z",
     "start_time": "2025-09-26T14:32:38.063644Z"
    }
   },
   "cell_type": "code",
   "source": [
    "# Create a nested 'source' column\n",
    "df[\"source\"] = df.apply(lambda row: {\"source_id\": row[\"source_id\"], \"link\": row[\"link\"]}, axis=1)"
   ],
   "id": "ea374e72d9e0ecad",
   "outputs": [],
   "execution_count": 30
  },
  {
   "metadata": {
    "ExecuteTime": {
     "end_time": "2025-09-26T14:32:38.079177Z",
     "start_time": "2025-09-26T14:32:38.076171Z"
    }
   },
   "cell_type": "code",
   "source": [
    "# Drop the original link/source_id columns\n",
    "df = df.drop(columns=[\"source_id\", \"link\", \"details\"])"
   ],
   "id": "61497d6b0d11d5cd",
   "outputs": [],
   "execution_count": 31
  },
  {
   "metadata": {
    "ExecuteTime": {
     "end_time": "2025-09-26T14:32:38.089189Z",
     "start_time": "2025-09-26T14:32:38.084915Z"
    }
   },
   "cell_type": "code",
   "source": [
    "# Save the cleaned dataset into ../data/processed\n",
    "df.to_json(\"../data/processed/kapampangan_lexicon.json\",\n",
    "           orient=\"records\", force_ascii=False, indent=2)"
   ],
   "id": "b07f4ddb983f87",
   "outputs": [],
   "execution_count": 32
  },
  {
   "metadata": {
    "ExecuteTime": {
     "end_time": "2025-09-26T14:32:38.111243Z",
     "start_time": "2025-09-26T14:32:38.101317Z"
    }
   },
   "cell_type": "code",
   "source": [
    "# Preview first 10 rows\n",
    "df.head(10)"
   ],
   "id": "cc157e01d9d3fc28",
   "outputs": [
    {
     "data": {
      "text/plain": [
       "           word         lemma variants   pos        en_translation  \\\n",
       "0           abu           abu     None  NOUN                 ashes   \n",
       "1         abung         abung     None  NOUN          hut; shelter   \n",
       "2          achi          achi      ate  NOUN          older sister   \n",
       "3          adua          adua    aduwa   NUM                   two   \n",
       "4  adwang dalan  adwang dalan     None   NUM           two hundred   \n",
       "5        agpang        agpang     None   ADJ  fitting; appropriate   \n",
       "6         albug        a'lbug    albug  NOUN                 flood   \n",
       "7       albugan         albug     None  NOUN                  west   \n",
       "8          aldo          aldo     aldu  NOUN                   day   \n",
       "9         alili         alili     None  NOUN                 snail   \n",
       "\n",
       "  tl_translation                                            meaning  \\\n",
       "0            abo                        The solid remnants of fires   \n",
       "1           kubo                              Small simple dwelling   \n",
       "2            ate                  Female sibling older than oneself   \n",
       "3         dalawa                            Number representing “2”   \n",
       "4  dalawang daan                          Number representing “200”   \n",
       "5         angkop                    Something that matches or suits   \n",
       "6           baha          A large overflow of water submerging land   \n",
       "7       kanluran  The direction in which the sun goes down in th...   \n",
       "8           araw                  A unit of time equal to 24 hours.   \n",
       "9           suso                      A mollusk with a coiled shell   \n",
       "\n",
       "                                    example_sentence  \\\n",
       "0          Mitu na ing kayu, atilu ne mu la ring abu   \n",
       "1         Ing talapanulu atin yang abung king talon.   \n",
       "2             Achi ku ing sinaup king assignment ku.   \n",
       "3                      Aduang anak ing maki-sapatos.   \n",
       "4                        Adwang dalan la reng manok.   \n",
       "5                         Agpang ya ing sapatu kaku.   \n",
       "6                               Ing albug malalam ya   \n",
       "7  Ding anggang tau king babo ning mabilug a yatu...   \n",
       "8                                 Malino ya ing aldo   \n",
       "9                   Maragul la reng alili king sapa.   \n",
       "\n",
       "                                              source  \n",
       "0  {'source_id': 'dict_001', 'link': 'https://acd...  \n",
       "1  {'source_id': 'dict_006', 'link': 'https://siw...  \n",
       "2  {'source_id': 'dict_005', 'link': 'https://kap...  \n",
       "3  {'source_id': 'dict_005', 'link': 'https://kap...  \n",
       "4  {'source_id': 'dict_005', 'link': 'https://kap...  \n",
       "5  {'source_id': 'dict_006', 'link': 'https://siw...  \n",
       "6  {'source_id': 'dict_002', 'link': 'https://dok...  \n",
       "7  {'source_id': 'dict_003', 'link': 'https://kap...  \n",
       "8  {'source_id': 'dict_011', 'link': 'https://www...  \n",
       "9  {'source_id': 'dict_006', 'link': 'https://siw...  "
      ],
      "text/html": [
       "<div>\n",
       "<style scoped>\n",
       "    .dataframe tbody tr th:only-of-type {\n",
       "        vertical-align: middle;\n",
       "    }\n",
       "\n",
       "    .dataframe tbody tr th {\n",
       "        vertical-align: top;\n",
       "    }\n",
       "\n",
       "    .dataframe thead th {\n",
       "        text-align: right;\n",
       "    }\n",
       "</style>\n",
       "<table border=\"1\" class=\"dataframe\">\n",
       "  <thead>\n",
       "    <tr style=\"text-align: right;\">\n",
       "      <th></th>\n",
       "      <th>word</th>\n",
       "      <th>lemma</th>\n",
       "      <th>variants</th>\n",
       "      <th>pos</th>\n",
       "      <th>en_translation</th>\n",
       "      <th>tl_translation</th>\n",
       "      <th>meaning</th>\n",
       "      <th>example_sentence</th>\n",
       "      <th>source</th>\n",
       "    </tr>\n",
       "  </thead>\n",
       "  <tbody>\n",
       "    <tr>\n",
       "      <th>0</th>\n",
       "      <td>abu</td>\n",
       "      <td>abu</td>\n",
       "      <td>None</td>\n",
       "      <td>NOUN</td>\n",
       "      <td>ashes</td>\n",
       "      <td>abo</td>\n",
       "      <td>The solid remnants of fires</td>\n",
       "      <td>Mitu na ing kayu, atilu ne mu la ring abu</td>\n",
       "      <td>{'source_id': 'dict_001', 'link': 'https://acd...</td>\n",
       "    </tr>\n",
       "    <tr>\n",
       "      <th>1</th>\n",
       "      <td>abung</td>\n",
       "      <td>abung</td>\n",
       "      <td>None</td>\n",
       "      <td>NOUN</td>\n",
       "      <td>hut; shelter</td>\n",
       "      <td>kubo</td>\n",
       "      <td>Small simple dwelling</td>\n",
       "      <td>Ing talapanulu atin yang abung king talon.</td>\n",
       "      <td>{'source_id': 'dict_006', 'link': 'https://siw...</td>\n",
       "    </tr>\n",
       "    <tr>\n",
       "      <th>2</th>\n",
       "      <td>achi</td>\n",
       "      <td>achi</td>\n",
       "      <td>ate</td>\n",
       "      <td>NOUN</td>\n",
       "      <td>older sister</td>\n",
       "      <td>ate</td>\n",
       "      <td>Female sibling older than oneself</td>\n",
       "      <td>Achi ku ing sinaup king assignment ku.</td>\n",
       "      <td>{'source_id': 'dict_005', 'link': 'https://kap...</td>\n",
       "    </tr>\n",
       "    <tr>\n",
       "      <th>3</th>\n",
       "      <td>adua</td>\n",
       "      <td>adua</td>\n",
       "      <td>aduwa</td>\n",
       "      <td>NUM</td>\n",
       "      <td>two</td>\n",
       "      <td>dalawa</td>\n",
       "      <td>Number representing “2”</td>\n",
       "      <td>Aduang anak ing maki-sapatos.</td>\n",
       "      <td>{'source_id': 'dict_005', 'link': 'https://kap...</td>\n",
       "    </tr>\n",
       "    <tr>\n",
       "      <th>4</th>\n",
       "      <td>adwang dalan</td>\n",
       "      <td>adwang dalan</td>\n",
       "      <td>None</td>\n",
       "      <td>NUM</td>\n",
       "      <td>two hundred</td>\n",
       "      <td>dalawang daan</td>\n",
       "      <td>Number representing “200”</td>\n",
       "      <td>Adwang dalan la reng manok.</td>\n",
       "      <td>{'source_id': 'dict_005', 'link': 'https://kap...</td>\n",
       "    </tr>\n",
       "    <tr>\n",
       "      <th>5</th>\n",
       "      <td>agpang</td>\n",
       "      <td>agpang</td>\n",
       "      <td>None</td>\n",
       "      <td>ADJ</td>\n",
       "      <td>fitting; appropriate</td>\n",
       "      <td>angkop</td>\n",
       "      <td>Something that matches or suits</td>\n",
       "      <td>Agpang ya ing sapatu kaku.</td>\n",
       "      <td>{'source_id': 'dict_006', 'link': 'https://siw...</td>\n",
       "    </tr>\n",
       "    <tr>\n",
       "      <th>6</th>\n",
       "      <td>albug</td>\n",
       "      <td>a'lbug</td>\n",
       "      <td>albug</td>\n",
       "      <td>NOUN</td>\n",
       "      <td>flood</td>\n",
       "      <td>baha</td>\n",
       "      <td>A large overflow of water submerging land</td>\n",
       "      <td>Ing albug malalam ya</td>\n",
       "      <td>{'source_id': 'dict_002', 'link': 'https://dok...</td>\n",
       "    </tr>\n",
       "    <tr>\n",
       "      <th>7</th>\n",
       "      <td>albugan</td>\n",
       "      <td>albug</td>\n",
       "      <td>None</td>\n",
       "      <td>NOUN</td>\n",
       "      <td>west</td>\n",
       "      <td>kanluran</td>\n",
       "      <td>The direction in which the sun goes down in th...</td>\n",
       "      <td>Ding anggang tau king babo ning mabilug a yatu...</td>\n",
       "      <td>{'source_id': 'dict_003', 'link': 'https://kap...</td>\n",
       "    </tr>\n",
       "    <tr>\n",
       "      <th>8</th>\n",
       "      <td>aldo</td>\n",
       "      <td>aldo</td>\n",
       "      <td>aldu</td>\n",
       "      <td>NOUN</td>\n",
       "      <td>day</td>\n",
       "      <td>araw</td>\n",
       "      <td>A unit of time equal to 24 hours.</td>\n",
       "      <td>Malino ya ing aldo</td>\n",
       "      <td>{'source_id': 'dict_011', 'link': 'https://www...</td>\n",
       "    </tr>\n",
       "    <tr>\n",
       "      <th>9</th>\n",
       "      <td>alili</td>\n",
       "      <td>alili</td>\n",
       "      <td>None</td>\n",
       "      <td>NOUN</td>\n",
       "      <td>snail</td>\n",
       "      <td>suso</td>\n",
       "      <td>A mollusk with a coiled shell</td>\n",
       "      <td>Maragul la reng alili king sapa.</td>\n",
       "      <td>{'source_id': 'dict_006', 'link': 'https://siw...</td>\n",
       "    </tr>\n",
       "  </tbody>\n",
       "</table>\n",
       "</div>"
      ]
     },
     "execution_count": 33,
     "metadata": {},
     "output_type": "execute_result"
    }
   ],
   "execution_count": 33
  }
 ],
 "metadata": {
  "kernelspec": {
   "display_name": "Python 3",
   "language": "python",
   "name": "python3"
  },
  "language_info": {
   "codemirror_mode": {
    "name": "ipython",
    "version": 2
   },
   "file_extension": ".py",
   "mimetype": "text/x-python",
   "name": "python",
   "nbconvert_exporter": "python",
   "pygments_lexer": "ipython2",
   "version": "2.7.6"
  }
 },
 "nbformat": 4,
 "nbformat_minor": 5
}
